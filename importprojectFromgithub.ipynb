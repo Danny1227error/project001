{
  "nbformat": 4,
  "nbformat_minor": 0,
  "metadata": {
    "colab": {
      "provenance": [],
      "authorship_tag": "ABX9TyObh0nZhl3Jxy6EfpPF1ZeF",
      "include_colab_link": true
    },
    "kernelspec": {
      "name": "python3",
      "display_name": "Python 3"
    },
    "language_info": {
      "name": "python"
    }
  },
  "cells": [
    {
      "cell_type": "markdown",
      "metadata": {
        "id": "view-in-github",
        "colab_type": "text"
      },
      "source": [
        "<a href=\"https://colab.research.google.com/github/Danny1227error/project001/blob/main/importprojectFromgithub.ipynb\" target=\"_parent\"><img src=\"https://colab.research.google.com/assets/colab-badge.svg\" alt=\"Open In Colab\"/></a>"
      ]
    },
    {
      "cell_type": "code",
      "execution_count": 2,
      "metadata": {
        "colab": {
          "base_uri": "https://localhost:8080/"
        },
        "id": "kr8nIHhjASm6",
        "outputId": "6502d625-7cd9-4fd4-ee62-8e9e44ab2bd4"
      },
      "outputs": [
        {
          "output_type": "stream",
          "name": "stdout",
          "text": [
            "Cloning into 'Getting-Long-Term-Daily-Google-Trends-Data.ipynb'...\n",
            "remote: Enumerating objects: 37, done.\u001b[K\n",
            "remote: Total 37 (delta 0), reused 0 (delta 0), pack-reused 37 (from 1)\u001b[K\n",
            "Receiving objects: 100% (37/37), 23.98 KiB | 481.00 KiB/s, done.\n",
            "Resolving deltas: 100% (16/16), done.\n"
          ]
        }
      ],
      "source": [
        "# @title Default title text\n",
        "!git clone https://github.com/PhilippeCodes/Getting-Long-Term-Daily-Google-Trends-Data.ipynb.git"
      ]
    },
    {
      "cell_type": "code",
      "source": [
        "#ทดสอบการรับค่า\n",
        "W =float(input('น้ำหนัก (kg) : '))\n",
        "H =float(input('ส่วนสูง (cm) : '))\n",
        "BMI = W/(H**2)\n",
        "print('ค่าBMI = '+str(BMI))\n",
        "if BMI>30.0:\n",
        "  print('คุณอ้วนมาก')\n",
        "elif BMI>25.0:\n",
        "  print('คุณอ้วน')\n",
        "elif BMI>18.5:\n",
        "  print('คุณปกติ')\n",
        "else:\n",
        "  print('คุณผอม')"
      ],
      "metadata": {
        "colab": {
          "base_uri": "https://localhost:8080/"
        },
        "id": "k8dIQdDbUo-L",
        "outputId": "30a76d65-370a-49fc-d9f3-a4a965a5d5c1"
      },
      "execution_count": 9,
      "outputs": [
        {
          "output_type": "stream",
          "name": "stdout",
          "text": [
            "ความกว้าง เมตร : 10\n",
            "ความยาว เมตร : 10\n",
            "ความสูง เมตร : 10\n",
            "ปริมาณคอนกรีตที่ใช้ เท่ากับ10.0คิว\n",
            "ปริมาณที่ต้องใช้เผื่อ 10 % =11.0\n"
          ]
        }
      ]
    },
    {
      "cell_type": "code",
      "source": [],
      "metadata": {
        "id": "xtiTAxA-Afw-"
      },
      "execution_count": null,
      "outputs": []
    }
  ]
}